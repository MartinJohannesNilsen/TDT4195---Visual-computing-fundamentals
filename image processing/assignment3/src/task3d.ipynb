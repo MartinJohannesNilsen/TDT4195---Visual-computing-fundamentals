{
 "cells": [
  {
   "cell_type": "code",
   "execution_count": 47,
   "id": "1c7e2d60",
   "metadata": {},
   "outputs": [],
   "source": [
    "import utils\n",
    "import skimage\n",
    "import skimage.morphology\n",
    "import numpy as np"
   ]
  },
  {
   "cell_type": "code",
   "execution_count": 48,
   "id": "3a3008f9",
   "metadata": {},
   "outputs": [],
   "source": [
    "def fill_holes(im: np.ndarray, starting_points: list, num_iterations: int) -> np.ndarray:\n",
    "    \"\"\"\n",
    "        A function that takes a binary image (im),  and a set of points \n",
    "        indicating position of holes, and fills the holes.\n",
    "\n",
    "        args:\n",
    "            im: np.ndarray of shape (H, W) with boolean values (dtype=np.bool)\n",
    "            starting_points: list of list containing starting points (row, col). Ex:\n",
    "                [[row1, col1], [row2, col2], ...]\n",
    "            num_iterations: integer defining the number of iterations to apply the \n",
    "                            hole filling algorithm\n",
    "        return:\n",
    "            (np.ndarray) of shape (H, W). dtype=np.bool\n",
    "    \"\"\"\n",
    "    structuring_element = np.array([\n",
    "        [1, 1, 1],\n",
    "        [1, 1, 1],\n",
    "        [1, 1, 1]\n",
    "    ], dtype=bool)\n",
    "    \n",
    "    # From algorithm 1\n",
    "\n",
    "    # Input\n",
    "    I = im.copy()\n",
    "    I_C = np.invert(im)\n",
    "    K = num_iterations\n",
    "    S = starting_points\n",
    "    B = structuring_element\n",
    "    \n",
    "    # Step 1\n",
    "    X = [np.zeros_like(I, dtype=bool)] # X[0] = array of 0's like Image\n",
    "\n",
    "    # Step 2\n",
    "    for row, column in S:\n",
    "        X[0][row, column] = 1\n",
    "    \n",
    "    # Step 3\n",
    "    for k in range(1, K+1):\n",
    "        # Take dilation of X_k-1 and B\n",
    "        dilation = skimage.morphology.binary_dilation(X[k - 1], selem=B)\n",
    "        # For intersection, take logical_and\n",
    "        X.append(np.logical_and(dilation, I_C))\n",
    "    \n",
    "    # For union, take logical_or\n",
    "    return np.logical_or(X[K], im)\n",
    "\n"
   ]
  },
  {
   "cell_type": "code",
   "execution_count": 49,
   "id": "d2690676",
   "metadata": {},
   "outputs": [
    {
     "name": "stdout",
     "output_type": "stream",
     "text": [
      "Reading image: img/balls-with-reflections.png\n",
      "Saving image to: img/processed/balls-with-reflections-filled.png\n"
     ]
    }
   ],
   "source": [
    "if __name__ == \"__main__\":\n",
    "    im = utils.read_image(\"balls-with-reflections.png\")\n",
    "    binary_image = im != 0\n",
    "    starting_points = [ # (row, column)\n",
    "        [51, 64],\n",
    "        [44, 180],\n",
    "        [35, 365],\n",
    "        [156, 94],\n",
    "        [141, 264],\n",
    "        [138, 467],\n",
    "        [198, 180],\n",
    "        [229, 413],\n",
    "        [294, 103],\n",
    "        [302, 230],\n",
    "        [368, 388],\n",
    "        [352, 489],\n",
    "        [454, 57],\n",
    "        [457, 236],\n",
    "        [469, 400],\n",
    "        [489, 506]\n",
    "    ]\n",
    "    num_iterations = 30\n",
    "\n",
    "    result = fill_holes(binary_image, starting_points, num_iterations)\n",
    "\n",
    "    assert im.shape == result.shape, \"Expected image shape ({}) to be same as resulting image shape ({})\".format(\n",
    "            im.shape, result.shape)\n",
    "    assert result.dtype == bool, \"Expected resulting image dtype to be np.bool. Was: {}\".format(\n",
    "            result.dtype)\n",
    "\n",
    "    result = utils.to_uint8(result)\n",
    "    utils.save_im(\"balls-with-reflections-filled.png\", result)"
   ]
  }
 ],
 "metadata": {
  "interpreter": {
   "hash": "31f2aee4e71d21fbe5cf8b01ff0e069b9275f58929596ceb00d14d90e3e16cd6"
  },
  "kernelspec": {
   "display_name": "Python 3.8.9 64-bit",
   "language": "python",
   "name": "python3"
  },
  "language_info": {
   "codemirror_mode": {
    "name": "ipython",
    "version": 3
   },
   "file_extension": ".py",
   "mimetype": "text/x-python",
   "name": "python",
   "nbconvert_exporter": "python",
   "pygments_lexer": "ipython3",
   "version": "3.8.9"
  }
 },
 "nbformat": 4,
 "nbformat_minor": 5
}
