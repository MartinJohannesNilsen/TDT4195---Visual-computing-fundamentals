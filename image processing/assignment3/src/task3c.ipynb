{
 "cells": [
  {
   "cell_type": "code",
   "execution_count": 1,
   "id": "9a54ee03",
   "metadata": {},
   "outputs": [],
   "source": [
    "import utils\n",
    "import skimage\n",
    "import skimage.morphology\n",
    "import numpy as np"
   ]
  },
  {
   "cell_type": "code",
   "execution_count": 2,
   "id": "709f2616",
   "metadata": {},
   "outputs": [],
   "source": [
    "def extract_boundary(im: np.ndarray) -> np.ndarray:\n",
    "    \"\"\"\n",
    "        A function that extracts the inner boundary from a boolean image.\n",
    "\n",
    "        args:\n",
    "            im: np.ndarray of shape (H, W) with boolean values (dtype=np.bool)\n",
    "        return:\n",
    "            (np.ndarray) of shape (H, W). dtype=np.bool\n",
    "    \"\"\"\n",
    "    # 3 x 3 structuring element of all ones\n",
    "    structuring_element = np.array([\n",
    "        [1, 1, 1],\n",
    "        [1, 1, 1],\n",
    "        [1, 1, 1]\n",
    "    ], dtype=bool)\n",
    "\n",
    "    # Equation: A_boundary = im - binary_erosion(im, structuring_element)\n",
    "    # As numpy boolean subtract, the '-' operator, is not supported, I used the logical_xor function instead.\n",
    "    # Could have used the bitwise_xor ('^') too\n",
    "    boundary = np.logical_xor(im, skimage.morphology.binary_erosion(im, selem=structuring_element))\n",
    "    return boundary"
   ]
  },
  {
   "cell_type": "code",
   "execution_count": 3,
   "id": "24ecfe82",
   "metadata": {},
   "outputs": [
    {
     "name": "stdout",
     "output_type": "stream",
     "text": [
      "Reading image: img/lincoln.png\n",
      "Saving image to: img/processed/lincoln-boundary.png\n"
     ]
    }
   ],
   "source": [
    "if __name__ == \"__main__\":\n",
    "    im = utils.read_image(\"lincoln.png\")\n",
    "    binary_image = (im != 0)\n",
    "    boundary = extract_boundary(binary_image)\n",
    "\n",
    "    assert im.shape == boundary.shape, \"Expected image shape ({}) to be same as resulting image shape ({})\".format(\n",
    "            im.shape, boundary.shape)\n",
    "    assert boundary.dtype == bool, \"Expected resulting image dtype to be np.bool. Was: {}\".format(\n",
    "            boundary.dtype)\n",
    "\n",
    "    boundary = utils.to_uint8(boundary)\n",
    "    utils.save_im(\"lincoln-boundary.png\", boundary)"
   ]
  }
 ],
 "metadata": {
  "interpreter": {
   "hash": "31f2aee4e71d21fbe5cf8b01ff0e069b9275f58929596ceb00d14d90e3e16cd6"
  },
  "kernelspec": {
   "display_name": "Python 3.8.9 64-bit",
   "language": "python",
   "name": "python3"
  },
  "language_info": {
   "codemirror_mode": {
    "name": "ipython",
    "version": 3
   },
   "file_extension": ".py",
   "mimetype": "text/x-python",
   "name": "python",
   "nbconvert_exporter": "python",
   "pygments_lexer": "ipython3",
   "version": "3.8.9"
  }
 },
 "nbformat": 4,
 "nbformat_minor": 5
}
