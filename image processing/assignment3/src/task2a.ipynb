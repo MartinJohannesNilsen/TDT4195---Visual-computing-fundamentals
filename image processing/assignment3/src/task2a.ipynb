{
 "cells": [
  {
   "cell_type": "code",
   "execution_count": 5,
   "id": "94dc9e99",
   "metadata": {},
   "outputs": [],
   "source": [
    "import numpy as np\n",
    "import skimage\n",
    "import utils\n",
    "import pathlib"
   ]
  },
  {
   "cell_type": "code",
   "execution_count": 6,
   "id": "5b88b0a5",
   "metadata": {},
   "outputs": [],
   "source": [
    "def cumulative_sum(limit, array, element_function):\n",
    "    sum = 0\n",
    "    for i in range(0, limit):\n",
    "        sum += element_function(i, array[i])\n",
    "    return sum\n",
    "\n",
    "# Got a zero division error\n",
    "def zero_division(x, y): \n",
    "    if np.abs(y) <= 1e-8:\n",
    "        return 0\n",
    "    else:\n",
    "        return x / y"
   ]
  },
  {
   "cell_type": "code",
   "execution_count": 7,
   "id": "629d110b",
   "metadata": {},
   "outputs": [],
   "source": [
    "def otsu_thresholding(im: np.ndarray, find_eta=False) -> int:\n",
    "    \"\"\"\n",
    "        Otsu's thresholding algorithm that segments an image into 1 or 0 (True or False)\n",
    "        The function takes in a grayscale image and outputs a boolean image\n",
    "        args:\n",
    "            im: np.ndarray of shape (H, W) in the range [0, 255] (dtype=np.uint8)\n",
    "            find_eta: boolean, true if the eta_star should be returned also\n",
    "        return:\n",
    "            if find_eta\n",
    "                (int, int) the computed thresholding value and eta\n",
    "            else \n",
    "                (int) the computed thresholding value\n",
    "            \n",
    "    \"\"\"\n",
    "    # I will follow the seven steps from the chapter provided, and comment them along the way\n",
    "    assert im.dtype == np.uint8\n",
    "    L = 256 # Distinct integer intensty levels in the digital image\n",
    "\n",
    "    # 1. Compute the normalized histogram of the input image. \n",
    "    # Denote the components of the histogram by p_i, i = 0, 1, 2, ..., L - 1\n",
    "    (histogram, _) = np.histogram(im, L, (0, L - 1))\n",
    "    p = histogram / np.sum(histogram) # Normalize\n",
    "    assert(np.sum(p) == 1)\n",
    "\n",
    "    # 2. Compute the cumulative sums, P_1(k), \n",
    "    # for k = 0, 1, 2, ..., L - 1,\n",
    "    # using Eq. (10-49)\n",
    "    P_1 = np.fromiter(map(lambda k: cumulative_sum(k + 1, p, lambda i, p_i: p_i), range(L)), np.float64)\n",
    "\n",
    "    # 3. Compute the cumulative means, m(k), \n",
    "    # for k = 0, 1, 2, ..., L - 1, \n",
    "    # using Eq. (10-53)\n",
    "    m = np.fromiter(map(lambda k: cumulative_sum(k + 1, p, lambda i, p_i: i * p_i), range(L)), np.float64)\n",
    "\n",
    "    # 4. Compute the global mean, m_G, using Eq. (10-54)\n",
    "    m_G = cumulative_sum(L - 1, p, lambda i, p_i: i * p_i)\n",
    "\n",
    "    # 5. Compute the between-class variance term, sigma_B2(k), \n",
    "    # for k = 0, 1, 2, ..., L - 1\n",
    "    # using Eq. (10-62)\n",
    "    numerator = (m_G * P_1 - m) ** 2\n",
    "    denominator = P_1 * (1 - P_1)\n",
    "    sigma_B2 = np.fromiter(map(lambda i: zero_division(numerator[i], denominator[i]), range(L)), np.float64)\n",
    "\n",
    "    # 6. Obtain the Otsu threshold, k_star, as the value of k for which sigma_B2(k) is maximum.\n",
    "    # If the maximum is not unique, obtain k_star by averaging the values of k corresponding to the various maxima detected.\n",
    "    sigma_B2_max = np.amax(sigma_B2)\n",
    "    k_stars = [i for i, j in enumerate(sigma_B2) if j == sigma_B2_max]\n",
    "    k_star = int(sum(k_stars) / len(k_stars))\n",
    "    threshold = k_star\n",
    "\n",
    "    # 7. Compute the global variance, sigma_G2, using Eq. (10-58), \n",
    "    # and then obtain the separability measure, eta_star, by evaluating Eq. (10-61) with k = k_star\n",
    "    if find_eta:\n",
    "        sigma_G2 = cumulative_sum(L, p, lambda i, p_i: (i - m_G) ** 2 * p_i)\n",
    "        eta = sigma_B2 / sigma_G2\n",
    "        eta_star = eta[k_star]\n",
    "        return threshold, eta_star\n",
    "    else:\n",
    "        return threshold"
   ]
  },
  {
   "cell_type": "code",
   "execution_count": 8,
   "id": "79cc7761",
   "metadata": {},
   "outputs": [
    {
     "name": "stdout",
     "output_type": "stream",
     "text": [
      "Reading image: img/thumbprint.png\n",
      "Found optimal threshold: 152\n",
      "Saving image to: img/processed/thumbprint-segmented.png\n",
      "Reading image: img/polymercell.png\n",
      "Found optimal threshold: 181\n",
      "Saving image to: img/processed/polymercell-segmented.png\n"
     ]
    }
   ],
   "source": [
    "if __name__ == \"__main__\":\n",
    "    # DO NOT CHANGE\n",
    "    impaths_to_segment = [\n",
    "        pathlib.Path(\"thumbprint.png\"),\n",
    "        pathlib.Path(\"polymercell.png\")\n",
    "    ]\n",
    "    for impath in impaths_to_segment:\n",
    "        im = utils.read_image(impath)\n",
    "        threshold = otsu_thresholding(im)\n",
    "        print(\"Found optimal threshold:\", threshold)\n",
    "\n",
    "        # Segment the image by threshold\n",
    "        segmented_image = (im >= threshold)\n",
    "        assert im.shape == segmented_image.shape, \"Expected image shape ({}) to be same as thresholded image shape ({})\".format(\n",
    "                im.shape, segmented_image.shape)\n",
    "        assert segmented_image.dtype == bool, \"Expected thresholded image dtype to be np.bool. Was: {}\".format(\n",
    "                segmented_image.dtype)\n",
    "\n",
    "        segmented_image = utils.to_uint8(segmented_image)\n",
    "\n",
    "        save_path = \"{}-segmented.png\".format(impath.stem)\n",
    "        utils.save_im(save_path, segmented_image)"
   ]
  }
 ],
 "metadata": {
  "interpreter": {
   "hash": "31f2aee4e71d21fbe5cf8b01ff0e069b9275f58929596ceb00d14d90e3e16cd6"
  },
  "kernelspec": {
   "display_name": "Python 3.8.9 64-bit",
   "language": "python",
   "name": "python3"
  },
  "language_info": {
   "codemirror_mode": {
    "name": "ipython",
    "version": 3
   },
   "file_extension": ".py",
   "mimetype": "text/x-python",
   "name": "python",
   "nbconvert_exporter": "python",
   "pygments_lexer": "ipython3",
   "version": "3.8.9"
  }
 },
 "nbformat": 4,
 "nbformat_minor": 5
}
