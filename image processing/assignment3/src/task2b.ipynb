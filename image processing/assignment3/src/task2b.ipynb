{
 "cells": [
  {
   "cell_type": "code",
   "execution_count": 1,
   "id": "2b98e964",
   "metadata": {},
   "outputs": [],
   "source": [
    "import utils\n",
    "import numpy as np"
   ]
  },
  {
   "cell_type": "markdown",
   "metadata": {},
   "source": [
    "### Helper functions"
   ]
  },
  {
   "cell_type": "code",
   "execution_count": 2,
   "id": "104e483f",
   "metadata": {},
   "outputs": [],
   "source": [
    "class coordinates:\n",
    "    def __init__(self, coords):\n",
    "        self.row = coords[0]\n",
    "        self.column = coords[1]\n",
    "\n",
    "def is_inside_region(coords: coordinates, H: int, W: int):\n",
    "    \"\"\"\n",
    "    Takes in coordindates of candidate pixels, in addition to height and width of region.\n",
    "    Returns boolean telling if inside region or not\n",
    "    \"\"\"\n",
    "    return coords.column < W and coords.column >= 0 and coords.row < H and coords.row >= 0\n",
    "\n",
    "def generate_neighbourhood(row, column, H, W):\n",
    "    \"\"\"\n",
    "    Generate Moore-neighbourhood (8-connectedness)\n",
    "    Returns list of valid neighbours of input in row, column, within given height and width\n",
    "    \"\"\"\n",
    "    # Check for all neighbouring coordinates\n",
    "    neighbour_matrix = [\n",
    "            (row - 1, column + 1), (row, column + 1), (row + 1, column + 1), \n",
    "            (row - 1, column),                            (row + 1, column), \n",
    "            (row - 1, column - 1), (row, column - 1), (row + 1, column - 1)\n",
    "        ]\n",
    "    return list(filter(lambda coordinate: is_inside_region(coordinates(coordinate), H, W), neighbour_matrix))"
   ]
  },
  {
   "cell_type": "code",
   "execution_count": 3,
   "id": "3b20392d",
   "metadata": {},
   "outputs": [],
   "source": [
    "def region_growing(im: np.ndarray, seed_points: list, T: int) -> np.ndarray:\n",
    "    \"\"\"\n",
    "        A region growing algorithm that segments an image into 1 or 0 (True or False).\n",
    "        Finds candidate pixels with a Moore-neighborhood (8-connectedness). \n",
    "        Uses pixel intensity thresholding with the threshold T as the homogeneity criteria.\n",
    "        The function takes in a grayscale image and outputs a boolean image\n",
    "\n",
    "        args:\n",
    "            im: np.ndarray of shape (H, W) in the range [0, 255] (dtype=np.uint8)\n",
    "            seed_points: list of list containing seed points (row, column). Ex:\n",
    "                [[row1, col1], [row2, col2], ...]\n",
    "            T: integer value defining the threshold to used for the homogeneity criteria.\n",
    "        return:\n",
    "            (np.ndarray) of shape (H, W). dtype=np.bool\n",
    "    \"\"\"\n",
    "    (H, W) = im.shape\n",
    "    segmented = np.zeros_like(im).astype(bool)\n",
    "\n",
    "    for row_seed, column_seed in seed_points:\n",
    "        current = [(row_seed, column_seed)]\n",
    "        seed_intensity = im[row_seed, column_seed]\n",
    "        while len(current) > 0:\n",
    "            row, column = current.pop(0)\n",
    "            if not segmented[row, column] and abs((seed_intensity) - (im[row, column])) <= T:\n",
    "                segmented[row, column] = True\n",
    "                current += generate_neighbourhood(row, column, H, W)\n",
    "\n",
    "    return segmented"
   ]
  },
  {
   "cell_type": "code",
   "execution_count": 4,
   "id": "6a43f84e",
   "metadata": {},
   "outputs": [
    {
     "name": "stdout",
     "output_type": "stream",
     "text": [
      "Reading image: img/defective-weld.png\n",
      "Saving image to: img/processed/defective-weld-segmented.png\n"
     ]
    },
    {
     "name": "stderr",
     "output_type": "stream",
     "text": [
      "/Users/martinjohannesnilsen/OneDrive - NTNU/Fag/Datateknologi 1. semester/TDT4195 - Grunnleggende visuell databehandling/image processing/assignment3/src/utils.py:55: UserWarning: img/processed/defective-weld-segmented.png is a low contrast image\n",
      "  skimage.io.imsave(impath, im)\n"
     ]
    }
   ],
   "source": [
    "if __name__ == \"__main__\":\n",
    "    # DO NOT CHANGE\n",
    "    im = utils.read_image(\"defective-weld.png\")\n",
    "\n",
    "    seed_points = [ # (row, column)\n",
    "        [254, 138], # Seed point 1\n",
    "        [253, 296], # Seed point 2\n",
    "        [233, 436], # Seed point 3\n",
    "        [232, 417], # Seed point 4\n",
    "    ]\n",
    "    # intensity_threshold = 90 # FOR TESTING PURPOSES\n",
    "    intensity_threshold = 50\n",
    "    segmented_image = region_growing(im, seed_points, intensity_threshold)\n",
    "\n",
    "    assert im.shape == segmented_image.shape, \"Expected image shape ({}) to be same as thresholded image shape ({})\".format(\n",
    "        im.shape, segmented_image.shape)\n",
    "    assert segmented_image.dtype == bool, \"Expected thresholded image dtype to be np.bool. Was: {}\".format(\n",
    "            segmented_image.dtype)\n",
    "\n",
    "    segmented_image = utils.to_uint8(segmented_image)\n",
    "    utils.save_im(\"defective-weld-segmented.png\", segmented_image)"
   ]
  }
 ],
 "metadata": {
  "interpreter": {
   "hash": "31f2aee4e71d21fbe5cf8b01ff0e069b9275f58929596ceb00d14d90e3e16cd6"
  },
  "kernelspec": {
   "display_name": "Python 3.8.9 64-bit",
   "language": "python",
   "name": "python3"
  },
  "language_info": {
   "codemirror_mode": {
    "name": "ipython",
    "version": 3
   },
   "file_extension": ".py",
   "mimetype": "text/x-python",
   "name": "python",
   "nbconvert_exporter": "python",
   "pygments_lexer": "ipython3",
   "version": "3.8.9"
  }
 },
 "nbformat": 4,
 "nbformat_minor": 5
}
